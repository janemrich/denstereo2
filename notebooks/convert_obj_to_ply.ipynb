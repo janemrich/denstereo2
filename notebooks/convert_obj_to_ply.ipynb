{
 "cells": [
  {
   "cell_type": "code",
   "execution_count": 2,
   "metadata": {},
   "outputs": [
    {
     "ename": "ImportError",
     "evalue": "attempted relative import with no known parent package",
     "output_type": "error",
     "traceback": [
      "\u001b[0;31m---------------------------------------------------------------------------\u001b[0m",
      "\u001b[0;31mImportError\u001b[0m                               Traceback (most recent call last)",
      "\u001b[0;32m/tmp/ipykernel_482679/1560087480.py\u001b[0m in \u001b[0;36m<module>\u001b[0;34m\u001b[0m\n\u001b[1;32m      1\u001b[0m \u001b[0;32mfrom\u001b[0m \u001b[0mpathlib\u001b[0m \u001b[0;32mimport\u001b[0m \u001b[0mPath\u001b[0m\u001b[0;34m\u001b[0m\u001b[0;34m\u001b[0m\u001b[0m\n\u001b[1;32m      2\u001b[0m \u001b[0;32mimport\u001b[0m \u001b[0mmeshio\u001b[0m\u001b[0;34m\u001b[0m\u001b[0;34m\u001b[0m\u001b[0m\n\u001b[0;32m----> 3\u001b[0;31m \u001b[0;32mfrom\u001b[0m \u001b[0;34m.\u001b[0m\u001b[0;34m.\u001b[0m \u001b[0;32mimport\u001b[0m \u001b[0mref\u001b[0m\u001b[0;34m\u001b[0m\u001b[0;34m\u001b[0m\u001b[0m\n\u001b[0m\u001b[1;32m      4\u001b[0m \u001b[0;34m\u001b[0m\u001b[0m\n\u001b[1;32m      5\u001b[0m \u001b[0mref_key\u001b[0m \u001b[0;34m=\u001b[0m \u001b[0;34m\"stereobj_1m\"\u001b[0m\u001b[0;34m\u001b[0m\u001b[0;34m\u001b[0m\u001b[0m\n",
      "\u001b[0;31mImportError\u001b[0m: attempted relative import with no known parent package"
     ]
    }
   ],
   "source": [
    "from pathlib import Path\n",
    "import meshio\n",
    "from .. import ref\n",
    "\n",
    "ref_key = \"stereobj_1m\"\n",
    "data_ref = ref.__dict__[ref_key]\n",
    "\n",
    "model_dir = data_ref.model_dir\n",
    "objects = data_ref.objects\n",
    "\n",
    "id2obj = data_ref.id2obj"
   ]
  },
  {
   "cell_type": "code",
   "execution_count": 5,
   "metadata": {},
   "outputs": [],
   "source": [
    "original_files = list(Path(\"../datasets/BOP_DATASETS/stereobj_1m/objects\").glob(\"*.obj\"))"
   ]
  },
  {
   "cell_type": "code",
   "execution_count": 10,
   "metadata": {},
   "outputs": [
    {
     "data": {
      "text/html": [
       "<pre style=\"white-space:pre;overflow-x:auto;line-height:normal;font-family:Menlo,'DejaVu Sans Mono',consolas,'Courier New',monospace\"><span style=\"color: #808000; text-decoration-color: #808000; font-weight: bold\">Warning:</span><span style=\"color: #808000; text-decoration-color: #808000\"> PLY doesn't support </span><span style=\"color: #808000; text-decoration-color: #808000; font-weight: bold\">64</span><span style=\"color: #808000; text-decoration-color: #808000\">-bit integers. Casting down to </span><span style=\"color: #808000; text-decoration-color: #808000; font-weight: bold\">32</span><span style=\"color: #808000; text-decoration-color: #808000\">-bit.</span>\n",
       "</pre>\n"
      ],
      "text/plain": [
       "\u001b[1;33mWarning:\u001b[0m\u001b[33m PLY doesn't support \u001b[0m\u001b[1;33m64\u001b[0m\u001b[33m-bit integers. Casting down to \u001b[0m\u001b[1;33m32\u001b[0m\u001b[33m-bit.\u001b[0m\n"
      ]
     },
     "metadata": {},
     "output_type": "display_data"
    },
    {
     "data": {
      "text/html": [
       "<pre style=\"white-space:pre;overflow-x:auto;line-height:normal;font-family:Menlo,'DejaVu Sans Mono',consolas,'Courier New',monospace\"><span style=\"color: #808000; text-decoration-color: #808000; font-weight: bold\">Warning:</span><span style=\"color: #808000; text-decoration-color: #808000\"> PLY doesn't support </span><span style=\"color: #808000; text-decoration-color: #808000; font-weight: bold\">64</span><span style=\"color: #808000; text-decoration-color: #808000\">-bit integers. Casting down to </span><span style=\"color: #808000; text-decoration-color: #808000; font-weight: bold\">32</span><span style=\"color: #808000; text-decoration-color: #808000\">-bit.</span>\n",
       "</pre>\n"
      ],
      "text/plain": [
       "\u001b[1;33mWarning:\u001b[0m\u001b[33m PLY doesn't support \u001b[0m\u001b[1;33m64\u001b[0m\u001b[33m-bit integers. Casting down to \u001b[0m\u001b[1;33m32\u001b[0m\u001b[33m-bit.\u001b[0m\n"
      ]
     },
     "metadata": {},
     "output_type": "display_data"
    },
    {
     "data": {
      "text/html": [
       "<pre style=\"white-space:pre;overflow-x:auto;line-height:normal;font-family:Menlo,'DejaVu Sans Mono',consolas,'Courier New',monospace\"><span style=\"color: #808000; text-decoration-color: #808000; font-weight: bold\">Warning:</span><span style=\"color: #808000; text-decoration-color: #808000\"> PLY doesn't support </span><span style=\"color: #808000; text-decoration-color: #808000; font-weight: bold\">64</span><span style=\"color: #808000; text-decoration-color: #808000\">-bit integers. Casting down to </span><span style=\"color: #808000; text-decoration-color: #808000; font-weight: bold\">32</span><span style=\"color: #808000; text-decoration-color: #808000\">-bit.</span>\n",
       "</pre>\n"
      ],
      "text/plain": [
       "\u001b[1;33mWarning:\u001b[0m\u001b[33m PLY doesn't support \u001b[0m\u001b[1;33m64\u001b[0m\u001b[33m-bit integers. Casting down to \u001b[0m\u001b[1;33m32\u001b[0m\u001b[33m-bit.\u001b[0m\n"
      ]
     },
     "metadata": {},
     "output_type": "display_data"
    },
    {
     "data": {
      "text/html": [
       "<pre style=\"white-space:pre;overflow-x:auto;line-height:normal;font-family:Menlo,'DejaVu Sans Mono',consolas,'Courier New',monospace\"><span style=\"color: #808000; text-decoration-color: #808000; font-weight: bold\">Warning:</span><span style=\"color: #808000; text-decoration-color: #808000\"> PLY doesn't support </span><span style=\"color: #808000; text-decoration-color: #808000; font-weight: bold\">64</span><span style=\"color: #808000; text-decoration-color: #808000\">-bit integers. Casting down to </span><span style=\"color: #808000; text-decoration-color: #808000; font-weight: bold\">32</span><span style=\"color: #808000; text-decoration-color: #808000\">-bit.</span>\n",
       "</pre>\n"
      ],
      "text/plain": [
       "\u001b[1;33mWarning:\u001b[0m\u001b[33m PLY doesn't support \u001b[0m\u001b[1;33m64\u001b[0m\u001b[33m-bit integers. Casting down to \u001b[0m\u001b[1;33m32\u001b[0m\u001b[33m-bit.\u001b[0m\n"
      ]
     },
     "metadata": {},
     "output_type": "display_data"
    },
    {
     "data": {
      "text/html": [
       "<pre style=\"white-space:pre;overflow-x:auto;line-height:normal;font-family:Menlo,'DejaVu Sans Mono',consolas,'Courier New',monospace\"><span style=\"color: #808000; text-decoration-color: #808000; font-weight: bold\">Warning:</span><span style=\"color: #808000; text-decoration-color: #808000\"> PLY doesn't support </span><span style=\"color: #808000; text-decoration-color: #808000; font-weight: bold\">64</span><span style=\"color: #808000; text-decoration-color: #808000\">-bit integers. Casting down to </span><span style=\"color: #808000; text-decoration-color: #808000; font-weight: bold\">32</span><span style=\"color: #808000; text-decoration-color: #808000\">-bit.</span>\n",
       "</pre>\n"
      ],
      "text/plain": [
       "\u001b[1;33mWarning:\u001b[0m\u001b[33m PLY doesn't support \u001b[0m\u001b[1;33m64\u001b[0m\u001b[33m-bit integers. Casting down to \u001b[0m\u001b[1;33m32\u001b[0m\u001b[33m-bit.\u001b[0m\n"
      ]
     },
     "metadata": {},
     "output_type": "display_data"
    },
    {
     "data": {
      "text/html": [
       "<pre style=\"white-space:pre;overflow-x:auto;line-height:normal;font-family:Menlo,'DejaVu Sans Mono',consolas,'Courier New',monospace\"><span style=\"color: #808000; text-decoration-color: #808000; font-weight: bold\">Warning:</span><span style=\"color: #808000; text-decoration-color: #808000\"> PLY doesn't support </span><span style=\"color: #808000; text-decoration-color: #808000; font-weight: bold\">64</span><span style=\"color: #808000; text-decoration-color: #808000\">-bit integers. Casting down to </span><span style=\"color: #808000; text-decoration-color: #808000; font-weight: bold\">32</span><span style=\"color: #808000; text-decoration-color: #808000\">-bit.</span>\n",
       "</pre>\n"
      ],
      "text/plain": [
       "\u001b[1;33mWarning:\u001b[0m\u001b[33m PLY doesn't support \u001b[0m\u001b[1;33m64\u001b[0m\u001b[33m-bit integers. Casting down to \u001b[0m\u001b[1;33m32\u001b[0m\u001b[33m-bit.\u001b[0m\n"
      ]
     },
     "metadata": {},
     "output_type": "display_data"
    },
    {
     "data": {
      "text/html": [
       "<pre style=\"white-space:pre;overflow-x:auto;line-height:normal;font-family:Menlo,'DejaVu Sans Mono',consolas,'Courier New',monospace\"><span style=\"color: #808000; text-decoration-color: #808000; font-weight: bold\">Warning:</span><span style=\"color: #808000; text-decoration-color: #808000\"> PLY doesn't support </span><span style=\"color: #808000; text-decoration-color: #808000; font-weight: bold\">64</span><span style=\"color: #808000; text-decoration-color: #808000\">-bit integers. Casting down to </span><span style=\"color: #808000; text-decoration-color: #808000; font-weight: bold\">32</span><span style=\"color: #808000; text-decoration-color: #808000\">-bit.</span>\n",
       "</pre>\n"
      ],
      "text/plain": [
       "\u001b[1;33mWarning:\u001b[0m\u001b[33m PLY doesn't support \u001b[0m\u001b[1;33m64\u001b[0m\u001b[33m-bit integers. Casting down to \u001b[0m\u001b[1;33m32\u001b[0m\u001b[33m-bit.\u001b[0m\n"
      ]
     },
     "metadata": {},
     "output_type": "display_data"
    },
    {
     "data": {
      "text/html": [
       "<pre style=\"white-space:pre;overflow-x:auto;line-height:normal;font-family:Menlo,'DejaVu Sans Mono',consolas,'Courier New',monospace\"><span style=\"color: #808000; text-decoration-color: #808000; font-weight: bold\">Warning:</span><span style=\"color: #808000; text-decoration-color: #808000\"> PLY doesn't support </span><span style=\"color: #808000; text-decoration-color: #808000; font-weight: bold\">64</span><span style=\"color: #808000; text-decoration-color: #808000\">-bit integers. Casting down to </span><span style=\"color: #808000; text-decoration-color: #808000; font-weight: bold\">32</span><span style=\"color: #808000; text-decoration-color: #808000\">-bit.</span>\n",
       "</pre>\n"
      ],
      "text/plain": [
       "\u001b[1;33mWarning:\u001b[0m\u001b[33m PLY doesn't support \u001b[0m\u001b[1;33m64\u001b[0m\u001b[33m-bit integers. Casting down to \u001b[0m\u001b[1;33m32\u001b[0m\u001b[33m-bit.\u001b[0m\n"
      ]
     },
     "metadata": {},
     "output_type": "display_data"
    },
    {
     "data": {
      "text/html": [
       "<pre style=\"white-space:pre;overflow-x:auto;line-height:normal;font-family:Menlo,'DejaVu Sans Mono',consolas,'Courier New',monospace\"><span style=\"color: #808000; text-decoration-color: #808000; font-weight: bold\">Warning:</span><span style=\"color: #808000; text-decoration-color: #808000\"> PLY doesn't support </span><span style=\"color: #808000; text-decoration-color: #808000; font-weight: bold\">64</span><span style=\"color: #808000; text-decoration-color: #808000\">-bit integers. Casting down to </span><span style=\"color: #808000; text-decoration-color: #808000; font-weight: bold\">32</span><span style=\"color: #808000; text-decoration-color: #808000\">-bit.</span>\n",
       "</pre>\n"
      ],
      "text/plain": [
       "\u001b[1;33mWarning:\u001b[0m\u001b[33m PLY doesn't support \u001b[0m\u001b[1;33m64\u001b[0m\u001b[33m-bit integers. Casting down to \u001b[0m\u001b[1;33m32\u001b[0m\u001b[33m-bit.\u001b[0m\n"
      ]
     },
     "metadata": {},
     "output_type": "display_data"
    },
    {
     "data": {
      "text/html": [
       "<pre style=\"white-space:pre;overflow-x:auto;line-height:normal;font-family:Menlo,'DejaVu Sans Mono',consolas,'Courier New',monospace\"><span style=\"color: #808000; text-decoration-color: #808000; font-weight: bold\">Warning:</span><span style=\"color: #808000; text-decoration-color: #808000\"> PLY doesn't support </span><span style=\"color: #808000; text-decoration-color: #808000; font-weight: bold\">64</span><span style=\"color: #808000; text-decoration-color: #808000\">-bit integers. Casting down to </span><span style=\"color: #808000; text-decoration-color: #808000; font-weight: bold\">32</span><span style=\"color: #808000; text-decoration-color: #808000\">-bit.</span>\n",
       "</pre>\n"
      ],
      "text/plain": [
       "\u001b[1;33mWarning:\u001b[0m\u001b[33m PLY doesn't support \u001b[0m\u001b[1;33m64\u001b[0m\u001b[33m-bit integers. Casting down to \u001b[0m\u001b[1;33m32\u001b[0m\u001b[33m-bit.\u001b[0m\n"
      ]
     },
     "metadata": {},
     "output_type": "display_data"
    },
    {
     "data": {
      "text/html": [
       "<pre style=\"white-space:pre;overflow-x:auto;line-height:normal;font-family:Menlo,'DejaVu Sans Mono',consolas,'Courier New',monospace\"><span style=\"color: #808000; text-decoration-color: #808000; font-weight: bold\">Warning:</span><span style=\"color: #808000; text-decoration-color: #808000\"> PLY doesn't support </span><span style=\"color: #808000; text-decoration-color: #808000; font-weight: bold\">64</span><span style=\"color: #808000; text-decoration-color: #808000\">-bit integers. Casting down to </span><span style=\"color: #808000; text-decoration-color: #808000; font-weight: bold\">32</span><span style=\"color: #808000; text-decoration-color: #808000\">-bit.</span>\n",
       "</pre>\n"
      ],
      "text/plain": [
       "\u001b[1;33mWarning:\u001b[0m\u001b[33m PLY doesn't support \u001b[0m\u001b[1;33m64\u001b[0m\u001b[33m-bit integers. Casting down to \u001b[0m\u001b[1;33m32\u001b[0m\u001b[33m-bit.\u001b[0m\n"
      ]
     },
     "metadata": {},
     "output_type": "display_data"
    },
    {
     "data": {
      "text/html": [
       "<pre style=\"white-space:pre;overflow-x:auto;line-height:normal;font-family:Menlo,'DejaVu Sans Mono',consolas,'Courier New',monospace\"><span style=\"color: #808000; text-decoration-color: #808000; font-weight: bold\">Warning:</span><span style=\"color: #808000; text-decoration-color: #808000\"> PLY doesn't support </span><span style=\"color: #808000; text-decoration-color: #808000; font-weight: bold\">64</span><span style=\"color: #808000; text-decoration-color: #808000\">-bit integers. Casting down to </span><span style=\"color: #808000; text-decoration-color: #808000; font-weight: bold\">32</span><span style=\"color: #808000; text-decoration-color: #808000\">-bit.</span>\n",
       "</pre>\n"
      ],
      "text/plain": [
       "\u001b[1;33mWarning:\u001b[0m\u001b[33m PLY doesn't support \u001b[0m\u001b[1;33m64\u001b[0m\u001b[33m-bit integers. Casting down to \u001b[0m\u001b[1;33m32\u001b[0m\u001b[33m-bit.\u001b[0m\n"
      ]
     },
     "metadata": {},
     "output_type": "display_data"
    },
    {
     "data": {
      "text/html": [
       "<pre style=\"white-space:pre;overflow-x:auto;line-height:normal;font-family:Menlo,'DejaVu Sans Mono',consolas,'Courier New',monospace\"><span style=\"color: #808000; text-decoration-color: #808000; font-weight: bold\">Warning:</span><span style=\"color: #808000; text-decoration-color: #808000\"> PLY doesn't support </span><span style=\"color: #808000; text-decoration-color: #808000; font-weight: bold\">64</span><span style=\"color: #808000; text-decoration-color: #808000\">-bit integers. Casting down to </span><span style=\"color: #808000; text-decoration-color: #808000; font-weight: bold\">32</span><span style=\"color: #808000; text-decoration-color: #808000\">-bit.</span>\n",
       "</pre>\n"
      ],
      "text/plain": [
       "\u001b[1;33mWarning:\u001b[0m\u001b[33m PLY doesn't support \u001b[0m\u001b[1;33m64\u001b[0m\u001b[33m-bit integers. Casting down to \u001b[0m\u001b[1;33m32\u001b[0m\u001b[33m-bit.\u001b[0m\n"
      ]
     },
     "metadata": {},
     "output_type": "display_data"
    },
    {
     "data": {
      "text/html": [
       "<pre style=\"white-space:pre;overflow-x:auto;line-height:normal;font-family:Menlo,'DejaVu Sans Mono',consolas,'Courier New',monospace\"><span style=\"color: #808000; text-decoration-color: #808000; font-weight: bold\">Warning:</span><span style=\"color: #808000; text-decoration-color: #808000\"> PLY doesn't support </span><span style=\"color: #808000; text-decoration-color: #808000; font-weight: bold\">64</span><span style=\"color: #808000; text-decoration-color: #808000\">-bit integers. Casting down to </span><span style=\"color: #808000; text-decoration-color: #808000; font-weight: bold\">32</span><span style=\"color: #808000; text-decoration-color: #808000\">-bit.</span>\n",
       "</pre>\n"
      ],
      "text/plain": [
       "\u001b[1;33mWarning:\u001b[0m\u001b[33m PLY doesn't support \u001b[0m\u001b[1;33m64\u001b[0m\u001b[33m-bit integers. Casting down to \u001b[0m\u001b[1;33m32\u001b[0m\u001b[33m-bit.\u001b[0m\n"
      ]
     },
     "metadata": {},
     "output_type": "display_data"
    },
    {
     "data": {
      "text/html": [
       "<pre style=\"white-space:pre;overflow-x:auto;line-height:normal;font-family:Menlo,'DejaVu Sans Mono',consolas,'Courier New',monospace\"><span style=\"color: #808000; text-decoration-color: #808000; font-weight: bold\">Warning:</span><span style=\"color: #808000; text-decoration-color: #808000\"> PLY doesn't support </span><span style=\"color: #808000; text-decoration-color: #808000; font-weight: bold\">64</span><span style=\"color: #808000; text-decoration-color: #808000\">-bit integers. Casting down to </span><span style=\"color: #808000; text-decoration-color: #808000; font-weight: bold\">32</span><span style=\"color: #808000; text-decoration-color: #808000\">-bit.</span>\n",
       "</pre>\n"
      ],
      "text/plain": [
       "\u001b[1;33mWarning:\u001b[0m\u001b[33m PLY doesn't support \u001b[0m\u001b[1;33m64\u001b[0m\u001b[33m-bit integers. Casting down to \u001b[0m\u001b[1;33m32\u001b[0m\u001b[33m-bit.\u001b[0m\n"
      ]
     },
     "metadata": {},
     "output_type": "display_data"
    },
    {
     "data": {
      "text/html": [
       "<pre style=\"white-space:pre;overflow-x:auto;line-height:normal;font-family:Menlo,'DejaVu Sans Mono',consolas,'Courier New',monospace\"><span style=\"color: #808000; text-decoration-color: #808000; font-weight: bold\">Warning:</span><span style=\"color: #808000; text-decoration-color: #808000\"> PLY doesn't support </span><span style=\"color: #808000; text-decoration-color: #808000; font-weight: bold\">64</span><span style=\"color: #808000; text-decoration-color: #808000\">-bit integers. Casting down to </span><span style=\"color: #808000; text-decoration-color: #808000; font-weight: bold\">32</span><span style=\"color: #808000; text-decoration-color: #808000\">-bit.</span>\n",
       "</pre>\n"
      ],
      "text/plain": [
       "\u001b[1;33mWarning:\u001b[0m\u001b[33m PLY doesn't support \u001b[0m\u001b[1;33m64\u001b[0m\u001b[33m-bit integers. Casting down to \u001b[0m\u001b[1;33m32\u001b[0m\u001b[33m-bit.\u001b[0m\n"
      ]
     },
     "metadata": {},
     "output_type": "display_data"
    },
    {
     "data": {
      "text/html": [
       "<pre style=\"white-space:pre;overflow-x:auto;line-height:normal;font-family:Menlo,'DejaVu Sans Mono',consolas,'Courier New',monospace\"><span style=\"color: #808000; text-decoration-color: #808000; font-weight: bold\">Warning:</span><span style=\"color: #808000; text-decoration-color: #808000\"> PLY doesn't support </span><span style=\"color: #808000; text-decoration-color: #808000; font-weight: bold\">64</span><span style=\"color: #808000; text-decoration-color: #808000\">-bit integers. Casting down to </span><span style=\"color: #808000; text-decoration-color: #808000; font-weight: bold\">32</span><span style=\"color: #808000; text-decoration-color: #808000\">-bit.</span>\n",
       "</pre>\n"
      ],
      "text/plain": [
       "\u001b[1;33mWarning:\u001b[0m\u001b[33m PLY doesn't support \u001b[0m\u001b[1;33m64\u001b[0m\u001b[33m-bit integers. Casting down to \u001b[0m\u001b[1;33m32\u001b[0m\u001b[33m-bit.\u001b[0m\n"
      ]
     },
     "metadata": {},
     "output_type": "display_data"
    },
    {
     "data": {
      "text/html": [
       "<pre style=\"white-space:pre;overflow-x:auto;line-height:normal;font-family:Menlo,'DejaVu Sans Mono',consolas,'Courier New',monospace\"><span style=\"color: #808000; text-decoration-color: #808000; font-weight: bold\">Warning:</span><span style=\"color: #808000; text-decoration-color: #808000\"> PLY doesn't support </span><span style=\"color: #808000; text-decoration-color: #808000; font-weight: bold\">64</span><span style=\"color: #808000; text-decoration-color: #808000\">-bit integers. Casting down to </span><span style=\"color: #808000; text-decoration-color: #808000; font-weight: bold\">32</span><span style=\"color: #808000; text-decoration-color: #808000\">-bit.</span>\n",
       "</pre>\n"
      ],
      "text/plain": [
       "\u001b[1;33mWarning:\u001b[0m\u001b[33m PLY doesn't support \u001b[0m\u001b[1;33m64\u001b[0m\u001b[33m-bit integers. Casting down to \u001b[0m\u001b[1;33m32\u001b[0m\u001b[33m-bit.\u001b[0m\n"
      ]
     },
     "metadata": {},
     "output_type": "display_data"
    }
   ],
   "source": [
    "for obj_file in original_files:\n",
    "    obj_id = id2obj[obj_file.stem]\n",
    "    mesh = meshio.read(obj_file)\n",
    "    # write as ascii file\n",
    "    out_path = Path(model_dir) / \"obj_{:06d}.ply\".format(obj_id)\n",
    "    meshio.write(out_path, mesh, file_format=\"ply\", binary=False)"
   ]
  }
 ],
 "metadata": {
  "kernelspec": {
   "display_name": "base",
   "language": "python",
   "name": "python3"
  },
  "language_info": {
   "codemirror_mode": {
    "name": "ipython",
    "version": 3
   },
   "file_extension": ".py",
   "mimetype": "text/x-python",
   "name": "python",
   "nbconvert_exporter": "python",
   "pygments_lexer": "ipython3",
   "version": "3.8.12"
  },
  "orig_nbformat": 4,
  "vscode": {
   "interpreter": {
    "hash": "d4d1e4263499bec80672ea0156c357c1ee493ec2b1c70f0acce89fc37c4a6abe"
   }
  }
 },
 "nbformat": 4,
 "nbformat_minor": 2
}
